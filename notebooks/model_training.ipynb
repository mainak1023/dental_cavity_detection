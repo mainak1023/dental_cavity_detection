{
 "cells": [
  {
   "cell_type": "markdown",
   "metadata": {},
   "source": [
    "# Dental Cavity Detection - Model Training\n",
    "\n",
    "This notebook demonstrates the process of training and evaluating different models for dental cavity detection."
   ]
  },
  {
   "cell_type": "code",
   "execution_count": null,
   "metadata": {},
   "source": [
    "import os\n",
    "import sys\n",
    "import numpy as np\n",
    "import pandas as pd\n",
    "import matplotlib.pyplot as plt\n",
    "import seaborn as sns\n",
    "import tensorflow as tf\n",
    "from tensorflow.keras.callbacks import ModelCheckpoint, EarlyStopping, ReduceLROnPlateau\n",
    "from sklearn.metrics import classification_report, confusion_matrix\n",
    "\n",
    "# Add the src directory to the path\n",
    "sys.path.append('../')\n",
    "from src.data_preprocessing import DataPreprocessor\n",
    "from src.model import DentalCavityModel\n",
    "from src.evaluation import ModelEvaluator\n",
    "from src.utils import save_class_names, plot_learning_curves\n",
    "\n",
    "# Set random seeds for reproducibility\n",
    "np.random.seed(42)\n",
    "tf.random.set_seed(42)\n",
    "\n",
    "# Set plot style\n",
    "plt.style.use('ggplot')\n",
    "sns.set(style=\"whitegrid\")"
   ]
  },
  {
   "cell_type": "markdown",
   "metadata": {},
   "source": [
    "## 1. Data Preparation\n",
    "\n",
    "First, let's load and preprocess the dataset."
   ]
  },
  {
   "cell_type": "code",
   "execution_count": null,
   "metadata": {},
   "source": [
    "# Set data directory\n",
    "data_dir = '../data/cavity_dataset'\n",
    "\n",
    "# Initialize data preprocessor\n",
    "preprocessor = DataPreprocessor(\n",
    "    data_dir=data_dir,\n",
    "    img_size=(224, 224),\n",
    "    test_size=0.2,\n",
    "    val_size=0.1\n",
    ")\n",
    "\n",
    "# Load and preprocess data\n",
    "X_train, y_train, X_val, y_val, X_test, y_test, class_names = preprocessor.load_and_preprocess_data()\n",
    "\n",
    "# Save class names for later use\n",
    "save_class_names(class_names, '../models/class_names.txt')\n",
    "\n",
    "# Visualize sample images\n",
    "preprocessor.visualize_samples(X_train, y_train, class_names)"
   ]
  },
  {
   "cell_type": "markdown",
   "metadata": {},
   "source": [
    "## 2. Data Augmentation\n",
    "\n",
    "Let's apply data augmentation to increase the diversity of our training data."
   ]
  },
  {
   "cell_type": "code",
   "execution_count": null,
   "metadata": {},
   "source": [
    "# Apply data augmentation\n",
    "X_train_aug, y_train_aug = preprocessor.apply_augmentation(X_train, y_train)\n",
    "\n",
    "# Visualize augmented samples\n",
    "preprocessor.visualize_samples(X_train_aug[-10:], y_train_aug[-10:], class_names, num_samples=2)"
   ]
  },
  {
   "cell_type": "markdown",
   "metadata": {},
   "source": [
    "## 3. Model Training\n",
    "\n",
    "Let's train different models and compare their performance."
   ]
  },
  {
   "cell_type": "markdown",
   "metadata": {},
   "source": [
    "### 3.1 Custom CNN Model"
   ]
  },
  {
   "cell_type": "code",
   "execution_count": null,
   "metadata": {},
   "source": [
    "# Initialize custom CNN model\n",
    "custom_model = DentalCavityModel(\n",
    "    input_shape=X_train.shape[1:],\n",
    "    num_classes=len(class_names),\n",
    "    model_type='custom'\n",
    ")\n",
    "\n",
    "# Print model summary\n",
    "custom_model.model.summary()\n",
    "\n",
    "# Train the model\n",
    "custom_history = custom_model.train(\n",
    "    X_train_aug, y_train_aug,\n",
    "    X_val, y_val,\n",
    "    batch_size=32,\n",
    "    epochs=30,\n",
    "    save_dir='../models'\n",
    ")\n",
    "\n",
    "# Plot training history\n",
    "custom_model.plot_training_history(custom_history, '../results/custom_model_history.png')"
   ]
  },
  {
   "cell_type": "markdown",
   "metadata": {},
   "source": [
    "### 3.2 Transfer Learning with MobileNetV2"
   ]
  },
  {
   "cell_type": "code",
   "execution_count": null,
   "metadata": {},
   "source": [
    "# Initialize MobileNetV2 model\n",
    "mobilenet_model = DentalCavityModel(\n",
    "    input_shape=X_train.shape[1:],\n",
    "    num_classes=len(class_names),\n",
    "    model_type='mobilenetv2'\n",
    ")\n",
    "\n",
    "# Print model summary\n",
    "mobilenet_model.model.summary()\n",
    "\n",
    "# Train the model\n",
    "mobilenet_history = mobilenet_model.train(\n",
    "    X_train_aug, y_train_aug,\n",
    "    X_val, y_val,\n",
    "    batch_size=32,\n",
    "    epochs=30,\n",
    "    save_dir='../models'\n",
    ")\n",
    "\n",
    "# Plot training history\n",
    "mobilenet_model.plot_training_history(mobilenet_history, '../results/mobilenet_model_history.png')"
   ]
  },
  {
   "cell_type": "markdown",
   "metadata": {},
   "source": [
    "### 3.3 Fine-tuning MobileNetV2\n",
    "\n",
    "Let's fine-tune the MobileNetV2 model by unfreezing some of the top layers."
   ]
  },
  {
   "cell_type": "code",
   "execution_count": null,
   "metadata": {},
   "source": [
    "# Load the best MobileNetV2 model\n",
    "best_mobilenet = tf.keras.models.load_model('../models/dental_cavity_mobilenetv2_best.h5')\n",
    "\n",
    "# Unfreeze the top layers of the base model\n",
    "for layer in best_mobilenet.layers:\n",
    "    if 'mobilenetv2' in layer.name:\n",
    "        base_model = layer\n",
    "        break\n",
    "\n",
    "# Unfreeze the top 20 layers\n",
    "for layer in base_model.layers[-20:]:\n",
    "    layer.trainable = True\n",
    "\n",
    "# Recompile the model with a lower learning rate\n",
    "best_mobilenet.compile(\n",
    "    optimizer=tf.keras.optimizers.Adam(learning_rate=0.0001),\n",
    "    loss='categorical_crossentropy',\n",
    "    metrics=['accuracy']\n",
    ")\n",
    "\n",
    "# Define callbacks\n",
    "checkpoint = ModelCheckpoint(\n",
    "    '../models/dental_cavity_mobilenetv2_finetuned_best.h5',\n",
    "    monitor='val_accuracy',\n",
    "    save_best_only=True,\n",
    "    mode='max',\n",
    "    verbose=1\n",
    ")\n",
    "\n",
    "early_stopping = EarlyStopping(\n",
    "    monitor='val_loss',\n",
    "    patience=10,\n",
    "    restore_best_weights=True,\n",
    "    verbose=1\n",
    ")\n",
    "\n",
    "reduce_lr = ReduceLROnPlateau(\n",
    "    monitor='val_loss',\n",
    "    factor=0.2,\n",
    "    patience=5,\n",
    "    min_lr=1e-6,\n",
    "    verbose=1\n",
    ")\n",
    "\n",
    "# Fine-tune the model\n",
    "finetuned_history = best_mobilenet.fit(\n",
    "    X_train_aug, y_train_aug,\n",
    "    batch_size=32,\n",
    "    epochs=20,\n",
    "    validation_data=(X_val, y_val),\n",
    "    callbacks=[checkpoint, early_stopping, reduce_lr]\n",
    ")\n",
    "\n",
    "# Plot training history\n",
    "plot_learning_curves(\n",
    "    finetuned_history.history,\n",
    "    save_path='../results/mobilenet_finetuned_history.png'\n",
    ")"
   ]
  },
  {
   "cell_type": "markdown",
   "metadata": {},
   "source": [
    "## 4. Model Evaluation\n",
    "\n",
    "Let's evaluate the performance of our models on the test set."
   ]
  },
  {
   "cell_type": "markdown",
   "metadata": {},
   "source": [
    "### 4.1 Custom CNN Model Evaluation"
   ]
  },
  {
   "cell_type": "code",
   "execution_count": null,
   "metadata": {},
   "source": [
    "# Load the best custom model\n",
    "best_custom_model = tf.keras.models.load_model('../models/dental_cavity_custom_best.h5')\n",
    "\n",
    "# Evaluate on test set\n",
    "custom_loss, custom_accuracy = best_custom_model.evaluate(X_test, y_test)\n",
    "print(f\"Custom CNN - Test Loss: {custom_loss:.4f}\")\n",
    "print(f\"Custom CNN - Test Accuracy: {custom_accuracy:.4f}\")\n",
    "\n",
    "# Detailed evaluation\n",
    "custom_evaluator = ModelEvaluator(best_custom_model, X_test, y_test, class_names)\n",
    "custom_evaluator.plot_confusion_matrix(normalize=True, save_path='../results/custom_confusion_matrix.png')\n",
    "custom_evaluator.print_classification_report()\n",
    "custom_evaluator.plot_roc_curve(save_path='../results/custom_roc_curve.png')\n",
    "custom_evaluator.visualize_predictions(save_path='../results/custom_predictions.png')"
   ]
  },
  {
   "cell_type": "markdown",
   "metadata": {},
   "source": [
    "### 4.2 MobileNetV2 Model Evaluation"
   ]
  },
  {
   "cell_type": "code",
   "execution_count": null,
   "metadata": {},
   "source": [
    "# Load the best MobileNetV2 model\n",
    "best_mobilenet_model = tf.keras.models.load_model('../models/dental_cavity_mobilenetv2_best.h5')\n",
    "\n",
    "# Evaluate on test set\n",
    "mobilenet_loss, mobilenet_accuracy = best_mobilenet_model.evaluate(X_test, y_test)\n",
    "print(f\"MobileNetV2 - Test Loss: {mobilenet_loss:.4f}\")\n",
    "print(f\"MobileNetV2 - Test Accuracy: {mobilenet_accuracy:.4f}\")\n",
    "\n",
    "# Detailed evaluation\n",
    "mobilenet_evaluator = ModelEvaluator(best_mobilenet_model, X_test, y_test, class_names)\n",
    "mobilenet_evaluator.plot_confusion_matrix(normalize=True, save_path='../results/mobilenet_confusion_matrix.png')\n",
    "mobilenet_evaluator.print_classification_report()\n",
    "mobilenet_evaluator.plot_roc_curve(save_path='../results/mobilenet_roc_curve.png')\n",
    "mobilenet_evaluator.visualize_predictions(save_path='../results/mobilenet_predictions.png')"
   ]
  },
  {
   "cell_type": "markdown",
   "metadata": {},
   "source": [
    "### 4.3 Fine-tuned MobileNetV2 Model Evaluation"
   ]
  },
  {
   "cell_type": "code",
   "execution_count": null,
   "metadata": {},
   "source": [
    "# Load the best fine-tuned MobileNetV2 model\n",
    "best_finetuned_model = tf.keras.models.load_model('../models/dental_cavity_mobilenetv2_finetuned_best.h5')\n",
    "\n",
    "# Evaluate on test set\n",
    "finetuned_loss, finetuned_accuracy = best_finetuned_model.evaluate(X_test, y_test)\n",
    "print(f\"Fine-tuned MobileNetV2 - Test Loss: {finetuned_loss:.4f}\")\n",
    "print(f\"Fine-tuned MobileNetV2 - Test Accuracy: {finetuned_accuracy:.4f}\")\n",
    "\n",
    "# Detailed evaluation\n",
    "finetuned_evaluator = ModelEvaluator(best_finetuned_model, X_test, y_test, class_names)\n",
    "finetuned_evaluator.plot_confusion_matrix(normalize=True, save_path='../results/finetuned_confusion_matrix.png')\n",
    "finetuned_evaluator.print_classification_report()\n",
    "finetuned_evaluator.plot_roc_curve(save_path='../results/finetuned_roc_curve.png')\n",
    "finetuned_evaluator.visualize_predictions(save_path='../results/finetuned_predictions.png')"
   ]
  },
  {
   "cell_type": "markdown",
   "metadata": {},
   "source": [
    "## 5. Model Comparison\n",
    "\n",
    "Let's compare the performance of all models."
   ]
  },
  {
   "cell_type": "code",
   "execution_count": null,
   "metadata": {},
   "source": [
    "# Compare model performance\n",
    "models = ['Custom CNN', 'MobileNetV2', 'Fine-tuned MobileNetV2']\n",
    "accuracies = [custom_accuracy, mobilenet_accuracy, finetuned_accuracy]\n",
    "losses = [custom_loss, mobilenet_loss, finetuned_loss]\n",
    "\n",
    "# Create a DataFrame for comparison\n",
    "comparison_df = pd.DataFrame({\n",
    "    'Model': models,\n",
    "    'Accuracy': accuracies,\n",
    "    'Loss': losses\n",
    "})\n",
    "\n",
    "print(\"Model Performance Comparison:\")\n",
    "print(comparison_df)\n",
    "\n",
    "# Plot comparison\n",
    "plt.figure(figsize=(12, 5))\n",
    "\n",
    "plt.subplot(1, 2, 1)\n",
    "sns.barplot(x='Model', y='Accuracy', data=comparison_df)\n",
    "plt.title('Model Accuracy Comparison')\n",
    "plt.ylim(0, 1)\n",
    "\n",
    "plt.subplot(1, 2, 2)\n",
    "sns.barplot(x='Model', y='Loss', data=comparison_df)\n",
    "plt.title('Model Loss Comparison')\n",
    "\n",
    "plt.tight_layout()\n",
    "plt.savefig('../results/model_comparison.png')\n",
    "plt.show()"
   ]
  },
  {
   "cell_type": "markdown",
   "metadata": {},
   "source": [
    "## 6. Conclusion\n",
    "\n",
    "In this notebook, we've trained and evaluated different models for dental cavity detection. We've compared a custom CNN model with transfer learning approaches using MobileNetV2, including fine-tuning.\n",
    "\n",
    "Key findings:\n",
    "- Transfer learning with MobileNetV2 outperforms the custom CNN model\n",
    "- Fine-tuning further improves the performance of the MobileNetV2 model\n",
    "- Data augmentation helps to improve model generalization\n",
    "\n",
    "The fine-tuned MobileNetV2 model achieves the best performance and is recommended for dental cavity detection."
   ]
  }
 ],
 "metadata": {
  "kernelspec": {
   "display_name": "Python 3",
   "language": "python",
   "name": "python3"
  },
  "language_info": {
   "codemirror_mode": {
    "name": "ipython",
    "version": 3
   },
   "file_extension": ".py",
   "mimetype": "text/x-python",
   "name": "python",
   "nbconvert_exporter": "python",
   "pygments_lexer": "ipython3",
   "version": "3.8.10"
  }
 },
 "nbformat": 4,
 "nbformat_minor": 4
}

